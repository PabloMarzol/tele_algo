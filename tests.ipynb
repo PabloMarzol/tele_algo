{
 "cells": [
  {
   "cell_type": "code",
   "execution_count": 3,
   "id": "4f3a1301",
   "metadata": {},
   "outputs": [
    {
     "name": "stdout",
     "output_type": "stream",
     "text": [
      "{\"status\":\"ok\",\"limit\":1,\"path\":\"https://api.apitube.io/v1/news/everything?per_page=1\\u0026api_key=api_live_yde4AawlEFido2rU6WqpBIObavjH9MeATRDtPN5euNkhreVhjsVliohwaI\\u0026source.domain=cnn.com\\u0026category.name=politics%2Ctechnology%2Cbusiness\\u0026sentiment.overall.polarity=positive%2Cneutral\",\"page\":1,\"has_next_pages\":true,\"next_page\":\"https://api.apitube.io/v1/news/everything?api_key=api_live_yde4AawlEFido2rU6WqpBIObavjH9MeATRDtPN5euNkhreVhjsVliohwaI\\u0026category.name=politics%2Ctechnology%2Cbusiness\\u0026page=2\\u0026per_page=1\\u0026sentiment.overall.polarity=positive%2Cneutral\\u0026source.domain=cnn.com\",\"next_page_cursor\":\"AoIqMzAwNjY0NzUxMnjW6fmFkgM=\",\"has_previous_page\":false,\"previous_page\":\"\",\"export\":{\"json\":\"https://api.apitube.io/v1/news/everything?api_key=api_live_yde4AawlEFido2rU6WqpBIObavjH9MeATRDtPN5euNkhreVhjsVliohwaI\\u0026category.name=politics%2Ctechnology%2Cbusiness\\u0026export=json\\u0026per_page=1\\u0026sentiment.overall.polarity=positive%2Cneutral\\u0026source.domain=cnn.com\",\"xlsx\":\"https://api.apitube.io/v1/news/everything?api_key=api_live_yde4AawlEFido2rU6WqpBIObavjH9MeATRDtPN5euNkhreVhjsVliohwaI\\u0026category.name=politics%2Ctechnology%2Cbusiness\\u0026export=xlsx\\u0026per_page=1\\u0026sentiment.overall.polarity=positive%2Cneutral\\u0026source.domain=cnn.com\",\"csv\":\"https://api.apitube.io/v1/news/everything?api_key=api_live_yde4AawlEFido2rU6WqpBIObavjH9MeATRDtPN5euNkhreVhjsVliohwaI\\u0026category.name=politics%2Ctechnology%2Cbusiness\\u0026export=csv\\u0026per_page=1\\u0026sentiment.overall.polarity=positive%2Cneutral\\u0026source.domain=cnn.com\",\"tsv\":\"https://api.apitube.io/v1/news/everything?api_key=api_live_yde4AawlEFido2rU6WqpBIObavjH9MeATRDtPN5euNkhreVhjsVliohwaI\\u0026category.name=politics%2Ctechnology%2Cbusiness\\u0026export=tsv\\u0026per_page=1\\u0026sentiment.overall.polarity=positive%2Cneutral\\u0026source.domain=cnn.com\",\"xml\":\"https://api.apitube.io/v1/news/everything?api_key=api_live_yde4AawlEFido2rU6WqpBIObavjH9MeATRDtPN5euNkhreVhjsVliohwaI\\u0026category.name=politics%2Ctechnology%2Cbusiness\\u0026export=xml\\u0026per_page=1\\u0026sentiment.overall.polarity=positive%2Cneutral\\u0026source.domain=cnn.com\"},\"request_id\":\"5b465eb0-95cd-4469-b200-8a4030b084a4\",\"results\":[{\"id\":3006647512,\"href\":\"https://ww...[+65 chars]...[Upgrade subscription plan]\",\"published_at\":\"2024-09-19T20:09:21Z\",\"title\":\"Lucas Papademos Fast Facts | CNN...[Upgrade subscription plan]\",\"description\":\"Lucas Papademos Fast Facts | CNN CNN values your. . ....[Upgrade subscription plan]\",\"body\":\"Lucas Papademos Fast Facts | CNN CNN values your feedback 1. How relevant is this ad to you? 2. Did you encounter any technical issues? Video player was slow to load content Video content never loaded...[+4800 chars]...[Upgrade subscription plan]\",\"author\":{\"id\":\"\",\"name\":\"\"},\"image\":\"https://media.cnn.com/api/v1/images/stellar/prod/120426085841-lucas-papademos.jpg?q=x_0,y_212,h_2394,w_4256,c_crop/w_800\",\"categories\":[{\"id\":\"IAB3-1\",\"name\":\"Advertising\",\"score\":0.5,\"taxonomy\":\"iab-qag\",\"links\":{\"self\":\"https://api.apitube.io/v1/news/category/iab-qag/IAB3-1\"}},{\"id\":\"IAB11-3\",\"name\":\"U.S. Government Resources\",\"score\":0.5,\"taxonomy\":\"iab-qag\",\"links\":{\"self\":\"https://api.apitube.io/v1/news/category/iab-qag/IAB11-3\"}},{\"id\":\"IAB20-16\",\"name\":\"Greece\",\"score\":0.5,\"taxonomy\":\"iab-qag\",\"links\":{\"self\":\"https://api.apitube.io/v1/news/category/iab-qag/IAB20-16\"}},{\"id\":\"IAB17-38\",\"name\":\"Swimming\",\"score\":0.5,\"taxonomy\":\"iab-qag\",\"links\":{\"self\":\"https://api.apitube.io/v1/news/category/iab-qag/IAB17-38\"}},{\"id\":\"IAB20-14\",\"name\":\"Europe\",\"score\":0.4,\"taxonomy\":\"iab-qag\",\"links\":{\"self\":\"https://api.apitube.io/v1/news/category/iab-qag/IAB20-14\"}},{\"id\":\"IAB7-25\",\"name\":\"Herbs for Health\",\"score\":0.4,\"taxonomy\":\"iab-qag\",\"links\":{\"self\":\"https://api.apitube.io/v1/news/category/iab-qag/IAB7-25\"}},{\"id\":\"IAB19-31\",\"name\":\"Unix\",\"score\":0.4,\"taxonomy\":\"iab-qag\",\"links\":{\"self\":\"https://api.apitube.io/v1/news/category/iab-qag/IAB19-31\"}},{\"id\":\"IAB9-29\",\"name\":\"Stamps \\u0026 Coins\",\"score\":0.3,\"taxonomy\":\"iab-qag\",\"links\":{\"self\":\"https://api.apitube.io/v1/news/category/iab-qag/IAB9-29\"}}],\"industries\":[{\"id\":408,\"name\":\"Trading Currency\",\"links\":{\"self\":\"https://api.apitube.io/v1/news/industry/408\"}},{\"id\":650,\"name\":\"News publications for advertising\",\"links\":{\"self\":\"https://api.apitube.io/v1/news/industry/650\"}},{\"id\":923,\"name\":\"Advertising Broadcast\",\"links\":{\"self\":\"https://api.apitube.io/v1/news/industry/923\"}},{\"id\":659,\"name\":\"Video content\",\"links\":{\"self\":\"https://api.apitube.io/v1/news/industry/659\"}},{\"id\":1041,\"name\":\"Tech Solutions\",\"links\":{\"self\":\"https://api.apitube.io/v1/news/industry/1041\"}},{\"id\":260,\"name\":\"Record Video\",\"links\":{\"self\":\"https://api.apitube.io/v1/news/industry/260\"}},{\"id\":302,\"name\":\"Hygiene and Beauty\",\"links\":{\"self\":\"https://api.apitube.io/v1/news/industry/302\"}},{\"id\":1233,\"name\":\"Senior Tourism\",\"links\":{\"self\":\"https://api.apitube.io/v1/news/industry/1233\"}}],\"entities\":null,\"topics\":null,\"language\":\"en\",\"source\":{\"id\":6282,\"domain\":\"cnn.com...[Upgrade subscription plan]\",\"home_page_url\":\"https://...[+11 chars]...[Upgrade subscription plan]\",\"type\":\"news\",\"rankings\":{\"opr\":8},\"location\":{\"country_name\":\"United States\",\"country_code\":\"us\"},\"favicon\":\"https://www.google.com/s2/favicons?domain=https://...[+11 chars]...[Upgrade subscription plan]\"},\"sentiment\":{\"overall\":{\"score\":0.01,\"polarity\":\"neutral\"},\"title\":{\"score\":0,\"polarity\":\"neutral\"},\"body\":{\"score\":0.01,\"polarity\":\"positive\"}},\"summary\":[{\"sentence\":\"AFP/Getty Images CNN — Here’s a look at the life of Lucas Papademos, economist and former prime minister of Greece.\",\"sentiment\":{\"score\":0,\"polarity\":\"neutral\"}},{\"sentence\":\"May 16, 2012 - Resigns as prime minister after Greek elections fail to produce a government.\",\"sentiment\":{\"score\":-0.19,\"polarity\":\"negative\"}},{\"sentence\":\"May 25, 2017 - Is injured by a letter bomb explosion while riding in a car in Athens.\",\"sentiment\":{\"score\":-0.17,\"polarity\":\"negative\"}}],\"keywords\":[\"Fast Facts CNN\"],\"links\":[{\"url\":\"https://twitter.com/CNN\",\"type\":\"link\",\"format\":\"link\"},{\"url\":\"https://facebook.com/CNN\",\"type\":\"link\",\"format\":\"link\"},{\"url\":\"https://www.linkedin.com/company\",\"type\":\"link\",\"format\":\"link\"},{\"url\":\"https://www.cnn.com/2013/08/05/europe/lucas-papademos-fast-facts/index.html#maincontent\",\"type\":\"link\",\"format\":\"link\"},{\"url\":\"https://cnn.com/\",\"type\":\"link\",\"format\":\"link\"},{\"url\":\"https://cnn.com/world\",\"type\":\"link\",\"format\":\"link\"},{\"url\":\"https://www.cnn.com/world/africa\",\"type\":\"link\",\"format\":\"link\"}],\"media\":[{\"url\":\"https://instagram.com/CNN\",\"type\":\"video\",\"format\":\"instagram\"}],\"story\":{\"id\":3006647512,\"uri\":\"https://api.apitube.io/v1/news/story/3006647512\"},\"is_duplicate\":false,\"is_paywall\":false,\"sentences_count\":33,\"paragraphs_count\":2188,\"words_count\":773,\"characters_count\":5000}],\"user_input\":null}\n"
     ]
    }
   ],
   "source": [
    "import requests\n",
    "\n",
    "url = \"https://api.apitube.io/v1/news/everything\"\n",
    "\n",
    "querystring = {\"per_page\":\"1\", \n",
    "               \"api_key\":\"api_live_yde4AawlEFido2rU6WqpBIObavjH9MeATRDtPN5euNkhreVhjsVliohwaI\",\n",
    "               \"source.domain\": \"cnn.com\",\n",
    "               \"category.name\": \"politics,technology,business\",\n",
    "               \"sentiment.overall.polarity\": \"positive,neutral\"\n",
    "               \n",
    "               }\n",
    "\n",
    "response = requests.request(\"GET\", url, params=querystring)\n",
    "\n",
    "print(response.text)"
   ]
  },
  {
   "cell_type": "code",
   "execution_count": 9,
   "id": "68da04fc",
   "metadata": {},
   "outputs": [
    {
     "name": "stdout",
     "output_type": "stream",
     "text": [
      "{'items': '0', 'sentiment_score_definition': 'x <= -0.35: Bearish; -0.35 < x <= -0.15: Somewhat-Bearish; -0.15 < x < 0.15: Neutral; 0.15 <= x < 0.35: Somewhat_Bullish; x >= 0.35: Bullish', 'relevance_score_definition': '0 < x <= 1, with a higher score indicating higher relevance.', 'feed': []}\n"
     ]
    }
   ],
   "source": [
    "import requests\n",
    "\n",
    "# replace the \"demo\" apikey below with your own key from https://www.alphavantage.co/support/#api-key\n",
    "url = 'https://www.alphavantage.co/query?function=NEWS_SENTIMENT&topics=financial_markets,economy_fiscal,economy_monetary,economy_macro,finance&apikey=U28SRMOO833EB9HN'\n",
    "r = requests.get(url)\n",
    "data = r.json()\n",
    "\n",
    "print(data)"
   ]
  },
  {
   "cell_type": "code",
   "execution_count": 32,
   "id": "bc7ec182",
   "metadata": {},
   "outputs": [
    {
     "name": "stdout",
     "output_type": "stream",
     "text": [
      "Retrieved 2 articles. Offset: 0/2. Total available: 153.\n"
     ]
    }
   ],
   "source": [
    "import worldnewsapi\n",
    "\n",
    "# Initial SDK configuration\n",
    "newsapi_configuration = worldnewsapi.Configuration(api_key={'apiKey': '18ba185a68f447ab82a8d90c13ad70b8'})\n",
    "\n",
    "try:\n",
    "\tnewsapi_instance = worldnewsapi.NewsApi(worldnewsapi.ApiClient(newsapi_configuration))\n",
    "\n",
    "\tmax_results = 2   # replace with your maximum\n",
    "\toffset = 0\n",
    "\tall_results = []\n",
    "\n",
    "\twhile len(all_results) < max_results:\n",
    "\n",
    "\t\trequest_count = min(100, max_results - len(all_results)) # request 100 or the remaining number of articles\n",
    "\n",
    "\t\tresponse = newsapi_instance.search_news(\n",
    "\t\t\ttext='finance',\n",
    "            source_country = \"us\",\n",
    "\t\t\tlanguage='en',\n",
    "\t\t\tearliest_publish_date='2025-05-01',\n",
    "\t\t\tlatest_publish_date='2025-05-06',\n",
    "\t\t\tcategories='politics,business,technology',\n",
    "\t\t\tsort=\"publish-time\",\n",
    "\t\t\tsort_direction=\"desc\",\n",
    "\t\t\tmin_sentiment=-0.8,\n",
    "\t\t\tmax_sentiment=0.8,\n",
    "\t\t\toffset=offset,\n",
    "\t\t\tnumber=request_count)\n",
    "\n",
    "\t\tprint(\"Retrieved \" + str(len(response.news)) + \" articles. Offset: \" + str(offset) + \"/\" + str(max_results) +\n",
    "\t\t\t  \". Total available: \" + str(response.available) + \".\")\n",
    "\n",
    "\t\tif len(response.news) == 0:\n",
    "\t\t\tbreak\n",
    "\n",
    "\t\tall_results.extend(response.news)\n",
    "\t\toffset += 100\n",
    "\n",
    "except worldnewsapi.ApiException as e:\n",
    "\tprint(\"Exception when calling NewsApi->search_news: %s\\n\" % e)\n"
   ]
  },
  {
   "cell_type": "code",
   "execution_count": 33,
   "id": "31e7cf40",
   "metadata": {},
   "outputs": [
    {
     "name": "stdout",
     "output_type": "stream",
     "text": [
      "\n",
      "Title: Texas Governor Abbott Approves New School Choice Legislation\n",
      "URL: https://internewscast.com/local-news/texas-governor-abbott-approves-new-school-choice-legislation/\n",
      "Sentiment: -0.018\n",
      "Text: AUSTIN (Nexstar) — Texas Gov. Greg Abbott signed Senate Bill 2, the education sa...\n",
      "\n",
      "Title: BURROWING IN: How 8 Biden Political Appointees Tried to Secure Spots in the Permanent Bureaucracy\n",
      "URL: https://www.dailysignal.com/2025/05/04/burrowing-how-8-biden-political-appointees-tried-secure-spots-permanent-bureaucracy/\n",
      "Sentiment: -0.22\n",
      "Text: Left-leaning federal bureaucrats aim to oppose President Donald Trump from withi...\n"
     ]
    }
   ],
   "source": [
    "for article in all_results:\n",
    "    print(\"\\nTitle: \" + str(article.title))\n",
    "    print(\"URL: \" + str(article.url))\n",
    "    print(\"Sentiment: \" + str(article.sentiment))\n",
    "    print(\"Text: \" + str(article.text[:80]) + \"...\")"
   ]
  }
 ],
 "metadata": {
  "kernelspec": {
   "display_name": "Python 3",
   "language": "python",
   "name": "python3"
  },
  "language_info": {
   "codemirror_mode": {
    "name": "ipython",
    "version": 3
   },
   "file_extension": ".py",
   "mimetype": "text/x-python",
   "name": "python",
   "nbconvert_exporter": "python",
   "pygments_lexer": "ipython3",
   "version": "3.11.0"
  }
 },
 "nbformat": 4,
 "nbformat_minor": 5
}
