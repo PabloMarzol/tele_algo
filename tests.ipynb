{
 "cells": [
  {
   "cell_type": "code",
   "execution_count": 23,
   "id": "4f3a1301",
   "metadata": {},
   "outputs": [
    {
     "name": "stdout",
     "output_type": "stream",
     "text": [
      "MetaTrader5 package author:  MetaQuotes Ltd.\n",
      "MetaTrader5 package version:  5.0.4424\n",
      "\n",
      "mt5.market_book_add('XAUUSD') failed, error code = (1, 'Success')\n"
     ]
    },
    {
     "data": {
      "text/plain": [
       "True"
      ]
     },
     "execution_count": 23,
     "metadata": {},
     "output_type": "execute_result"
    }
   ],
   "source": [
    "import MetaTrader5 as mt5\n",
    "import time\n",
    "# display data on the MetaTrader 5 package\n",
    "print(\"MetaTrader5 package author: \",mt5.__author__)\n",
    "print(\"MetaTrader5 package version: \",mt5.__version__)\n",
    "print(\"\")\n",
    " \n",
    "# establish connection to the MetaTrader 5 terminal\n",
    "if not mt5.initialize():\n",
    "    print(\"initialize() failed, error code =\",mt5.last_error())\n",
    "   # shut down connection to the MetaTrader 5 terminal\n",
    "    mt5.shutdown()\n",
    "    quit()\n",
    " \n",
    "# subscribe to market depth updates for EURUSD (Depth of Market)\n",
    "if mt5.market_book_add('XAUUSD'):\n",
    "  # get the market depth data 10 times in a loop\n",
    "   for i in range(200):\n",
    "        # get the market depth content (Depth of Market)\n",
    "        items = mt5.market_book_get('XAUUSD')\n",
    "        # display the entire market depth 'as is' in a single string\n",
    "        print(items)\n",
    "        # now display each order separately for more clarity\n",
    "        if items:\n",
    "            for it in items:\n",
    "                # order content\n",
    "                print(it._asdict())\n",
    "        # pause for 5 seconds before the next request of the market depth data\n",
    "        time.sleep(5)\n",
    "  # cancel the subscription to the market depth updates (Depth of Market)\n",
    "   mt5.market_book_release('XAUUSD')\n",
    "else:\n",
    "    print(\"mt5.market_book_add('XAUUSD') failed, error code =\",mt5.last_error())\n",
    " \n",
    "# shut down connection to the MetaTrader 5 terminal\n",
    "mt5.shutdown()"
   ]
  }
 ],
 "metadata": {
  "kernelspec": {
   "display_name": "Python 3",
   "language": "python",
   "name": "python3"
  },
  "language_info": {
   "codemirror_mode": {
    "name": "ipython",
    "version": 3
   },
   "file_extension": ".py",
   "mimetype": "text/x-python",
   "name": "python",
   "nbconvert_exporter": "python",
   "pygments_lexer": "ipython3",
   "version": "3.11.0"
  }
 },
 "nbformat": 4,
 "nbformat_minor": 5
}
