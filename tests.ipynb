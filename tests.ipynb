{
 "cells": [
  {
   "cell_type": "code",
   "execution_count": null,
   "id": "9af78538",
   "metadata": {},
   "outputs": [
    {
     "name": "stdout",
     "output_type": "stream",
     "text": [
      "Attempting to load messages from ./bot_data/vfx_messages.json\n"
     ]
    }
   ],
   "source": [
    "from datetime import datetime\n",
    "from vfx_Scheduler import VFXMessageScheduler\n",
    "\n",
    "\n",
    "\n",
    "# Global instance of the VFX message scheduler\n",
    "vfx_scheduler = VFXMessageScheduler()\n",
    "\n",
    "def send_hourly_welcome(context: str) -> None:\n",
    "    \"\"\"Send hour-specific market session messages to the group and channel.\"\"\"\n",
    "    current_hour = datetime.now().hour\n",
    "    current_weekday = datetime.now().weekday()\n",
    "    \n",
    "    # Only send messages at market opening hours on weekdays (0-4 are Monday-Friday)\n",
    "    if current_hour not in [0, 8, 13] or current_weekday > 4:  # Skip weekends (5=Saturday, 6=Sunday)\n",
    "        return  # Exit if not a market opening hour or if it's weekend\n",
    "    \n",
    "    # Get the appropriate session message\n",
    "    if current_hour == 0:\n",
    "        message = vfx_scheduler.get_welcome_message(\"00:00\")  # Tokyo session\n",
    "        session_name = \"Tokyo\"\n",
    "    elif current_hour == 8:\n",
    "        message = vfx_scheduler.get_welcome_message(\"08:00\")  # London session\n",
    "        session_name = \"London\"\n",
    "    elif current_hour == 13:\n",
    "        message = vfx_scheduler.get_welcome_message(\"13:00\")  # NY session\n",
    "        session_name = \"New York\"\n",
    "    \n",
    "    # Send to channel\n",
    "    try:\n",
    "        context.bot.send_message(\n",
    "            chat_id=MAIN_CHANNEL_ID, \n",
    "            text=message,\n",
    "            parse_mode='HTML'\n",
    "        )\n",
    "        logger.info(f\"Sent {session_name} session message at {datetime.now()} (Weekday: {current_weekday})\")\n",
    "    except Exception as e:\n",
    "        logger.error(f\"Failed to send {session_name} session message: {e}\")\n",
    "    \n",
    "    # Update analytics\n",
    "    try:\n",
    "        db.update_analytics(messages_sent=1)\n",
    "    except Exception as e:\n",
    "        logger.error(f\"Failed to update analytics: {e}\")"
   ]
  },
  {
   "cell_type": "code",
   "execution_count": 32,
   "id": "f7419561",
   "metadata": {},
   "outputs": [
    {
     "data": {
      "text/plain": [
       "\"🇺🇸 NEW YORK SESSION OPEN – 13:00 GMT 🇺🇸\\n\\nThe US markets are now ACTIVE! Time for maximum volatility and opportunity. 📈\\n\\nNew York brings powerful momentum and crucial economic releases. Our VFX algorithm is fine-tuned to navigate these dynamic market conditions!\\n\\n⸻\\n\\n✅ Step 1: Register with our official broker to unleash full US session potential:\\n👉 <a href='https://clients.vortexfx.com/register?referral=0195a843-2b1c-7339-9088-57b56b4aa753'>REGISTER HERE</a>\\n\\n✅ Step 2: Create your MT5 account in your Vortex FX portal.\\n\\n✅ Step 3: DM your MT5 account number to gain immediate access to:\\n🔥 VFX automated trading strategy with US session-specific algorithms\\n🔥 Premium signal channel featuring USD pairs, indices, and commodities\\n🔥 Live trade breakdowns from our Wall Street-experienced traders\\n\\n💡 Pro Tip: Watch for increased volatility during major US economic releases – our system adjusts risk parameters automatically!\\n\\n💰 This is when the big money moves – make sure you're positioned correctly with VFX! 💰\\n\\n📩 Questions about maximizing your New York session profits? Message @VFX_FX directly! 🚀🔥\""
      ]
     },
     "execution_count": 32,
     "metadata": {},
     "output_type": "execute_result"
    }
   ],
   "source": [
    "current_hour = datetime.now().hour\n",
    "current_weekday = datetime.now().weekday()\n",
    "if current_hour == 0:\n",
    "    message = vfx_scheduler.get_welcome_message(0)  # Tokyo session\n",
    "    session_name = \"Tokyo\"\n",
    "elif current_hour == 8:\n",
    "    message = vfx_scheduler.get_welcome_message(8)  # London session\n",
    "    session_name = \"London\"\n",
    "elif current_hour == 13:\n",
    "    message = vfx_scheduler.get_welcome_message(13)  # NY session\n",
    "    session_name = \"New York\"\n",
    "    \n",
    "    \n",
    "message\n"
   ]
  }
 ],
 "metadata": {
  "kernelspec": {
   "display_name": "Python 3",
   "language": "python",
   "name": "python3"
  },
  "language_info": {
   "codemirror_mode": {
    "name": "ipython",
    "version": 3
   },
   "file_extension": ".py",
   "mimetype": "text/x-python",
   "name": "python",
   "nbconvert_exporter": "python",
   "pygments_lexer": "ipython3",
   "version": "3.11.0"
  }
 },
 "nbformat": 4,
 "nbformat_minor": 5
}
