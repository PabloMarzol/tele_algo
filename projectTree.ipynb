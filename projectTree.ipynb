{
 "cells": [
  {
   "cell_type": "code",
   "execution_count": null,
   "id": "0b7d32b4",
   "metadata": {},
   "outputs": [],
   "source": [
    "import os\n",
    "\n",
    "def print_tree(path, indent = \"-\"):\n",
    "    \n",
    "    for item in os.listdir(path):\n",
    "        if item != \".git\":\n",
    "            full_path = os.path.join(path, item)\n",
    "            print(indent + item)\n",
    "        if os.path.isdir(full_path):\n",
    "            print_tree(full_path, indent + \" \")\n",
    "            \n",
    "            \n",
    "print_tree(\"./\")"
   ]
  }
 ],
 "metadata": {
  "kernelspec": {
   "display_name": "Python 3",
   "language": "python",
   "name": "python3"
  },
  "language_info": {
   "codemirror_mode": {
    "name": "ipython",
    "version": 3
   },
   "file_extension": ".py",
   "mimetype": "text/x-python",
   "name": "python",
   "nbconvert_exporter": "python",
   "pygments_lexer": "ipython3",
   "version": "3.11.0"
  }
 },
 "nbformat": 4,
 "nbformat_minor": 5
}
